{
 "cells": [
  {
   "cell_type": "markdown",
   "id": "1f4a17f2-3999-4de3-9069-7a1ee80ea73d",
   "metadata": {},
   "source": [
    "# Random Sampling Imputation (Numerical Data)"
   ]
  },
  {
   "cell_type": "code",
   "execution_count": 1,
   "id": "3e0c672b-3178-4360-a9bf-85234240b084",
   "metadata": {},
   "outputs": [],
   "source": [
    "import pandas as pd \n",
    "import numpy as np\n",
    "import matplotlib.pyplot as plt\n",
    "import seaborn as sns"
   ]
  },
  {
   "cell_type": "code",
   "execution_count": 2,
   "id": "7c09f840-10b0-4593-ba58-3983356bd442",
   "metadata": {},
   "outputs": [],
   "source": [
    "df = pd.read_csv('train.csv', usecols = ['Age', 'Fare', 'Survived'])"
   ]
  },
  {
   "cell_type": "code",
   "execution_count": 3,
   "id": "90a91785-b30b-4286-a95a-bcb7e6738477",
   "metadata": {},
   "outputs": [
    {
     "data": {
      "text/html": [
       "<div>\n",
       "<style scoped>\n",
       "    .dataframe tbody tr th:only-of-type {\n",
       "        vertical-align: middle;\n",
       "    }\n",
       "\n",
       "    .dataframe tbody tr th {\n",
       "        vertical-align: top;\n",
       "    }\n",
       "\n",
       "    .dataframe thead th {\n",
       "        text-align: right;\n",
       "    }\n",
       "</style>\n",
       "<table border=\"1\" class=\"dataframe\">\n",
       "  <thead>\n",
       "    <tr style=\"text-align: right;\">\n",
       "      <th></th>\n",
       "      <th>Survived</th>\n",
       "      <th>Age</th>\n",
       "      <th>Fare</th>\n",
       "    </tr>\n",
       "  </thead>\n",
       "  <tbody>\n",
       "    <tr>\n",
       "      <th>458</th>\n",
       "      <td>1</td>\n",
       "      <td>50.0</td>\n",
       "      <td>10.5000</td>\n",
       "    </tr>\n",
       "    <tr>\n",
       "      <th>345</th>\n",
       "      <td>1</td>\n",
       "      <td>24.0</td>\n",
       "      <td>13.0000</td>\n",
       "    </tr>\n",
       "    <tr>\n",
       "      <th>714</th>\n",
       "      <td>0</td>\n",
       "      <td>52.0</td>\n",
       "      <td>13.0000</td>\n",
       "    </tr>\n",
       "    <tr>\n",
       "      <th>52</th>\n",
       "      <td>1</td>\n",
       "      <td>49.0</td>\n",
       "      <td>76.7292</td>\n",
       "    </tr>\n",
       "    <tr>\n",
       "      <th>147</th>\n",
       "      <td>0</td>\n",
       "      <td>9.0</td>\n",
       "      <td>34.3750</td>\n",
       "    </tr>\n",
       "    <tr>\n",
       "      <th>382</th>\n",
       "      <td>0</td>\n",
       "      <td>32.0</td>\n",
       "      <td>7.9250</td>\n",
       "    </tr>\n",
       "    <tr>\n",
       "      <th>639</th>\n",
       "      <td>0</td>\n",
       "      <td>NaN</td>\n",
       "      <td>16.1000</td>\n",
       "    </tr>\n",
       "    <tr>\n",
       "      <th>673</th>\n",
       "      <td>1</td>\n",
       "      <td>31.0</td>\n",
       "      <td>13.0000</td>\n",
       "    </tr>\n",
       "    <tr>\n",
       "      <th>58</th>\n",
       "      <td>1</td>\n",
       "      <td>5.0</td>\n",
       "      <td>27.7500</td>\n",
       "    </tr>\n",
       "    <tr>\n",
       "      <th>279</th>\n",
       "      <td>1</td>\n",
       "      <td>35.0</td>\n",
       "      <td>20.2500</td>\n",
       "    </tr>\n",
       "  </tbody>\n",
       "</table>\n",
       "</div>"
      ],
      "text/plain": [
       "     Survived   Age     Fare\n",
       "458         1  50.0  10.5000\n",
       "345         1  24.0  13.0000\n",
       "714         0  52.0  13.0000\n",
       "52          1  49.0  76.7292\n",
       "147         0   9.0  34.3750\n",
       "382         0  32.0   7.9250\n",
       "639         0   NaN  16.1000\n",
       "673         1  31.0  13.0000\n",
       "58          1   5.0  27.7500\n",
       "279         1  35.0  20.2500"
      ]
     },
     "execution_count": 3,
     "metadata": {},
     "output_type": "execute_result"
    }
   ],
   "source": [
    "df.sample(10)"
   ]
  },
  {
   "cell_type": "markdown",
   "id": "cc961080-c217-4681-9c92-c79e3246bb36",
   "metadata": {},
   "source": [
    "### Checking Null values"
   ]
  },
  {
   "cell_type": "code",
   "execution_count": 4,
   "id": "9ff035e6-c1be-42e5-87cc-870a30abd75a",
   "metadata": {},
   "outputs": [
    {
     "data": {
      "text/plain": [
       "Survived     0.00000\n",
       "Age         19.86532\n",
       "Fare         0.00000\n",
       "dtype: float64"
      ]
     },
     "execution_count": 4,
     "metadata": {},
     "output_type": "execute_result"
    }
   ],
   "source": [
    "df.isnull().mean()*100"
   ]
  },
  {
   "cell_type": "markdown",
   "id": "e6d169f0-fefd-41a8-9281-e9392ccebf1e",
   "metadata": {},
   "source": [
    "### Creating X & Y"
   ]
  },
  {
   "cell_type": "code",
   "execution_count": 5,
   "id": "109c8a40-3542-48d4-9bfb-1f22a785d04a",
   "metadata": {},
   "outputs": [],
   "source": [
    "x = df.drop(columns = ['Survived'])\n",
    "y = df['Survived']"
   ]
  },
  {
   "cell_type": "markdown",
   "id": "98e551f5-a047-4c65-9c7f-42a126a91125",
   "metadata": {},
   "source": [
    "### Applying Train Test Split"
   ]
  },
  {
   "cell_type": "code",
   "execution_count": 6,
   "id": "2670b176-0976-4108-a348-75fa3beba6e9",
   "metadata": {},
   "outputs": [],
   "source": [
    "from sklearn.model_selection import train_test_split\n",
    "x_train, x_test, y_train, y_test = train_test_split(x, y, test_size = 0.2, random_state = 2)"
   ]
  },
  {
   "cell_type": "markdown",
   "id": "202f1f17-7050-46c3-9beb-03d84617ee9d",
   "metadata": {},
   "source": [
    "### New column create in both Train & Test "
   ]
  },
  {
   "cell_type": "code",
   "execution_count": 7,
   "id": "3389fe2b-4774-4628-bc50-8871345aaf86",
   "metadata": {},
   "outputs": [],
   "source": [
    "x_train['Age_imputed'] = x_train['Age']\n",
    "x_test['Age_imputed'] = x_test['Age']"
   ]
  },
  {
   "cell_type": "code",
   "execution_count": 8,
   "id": "fd9a4374-b284-478a-b277-cc20a4abb84a",
   "metadata": {},
   "outputs": [
    {
     "data": {
      "text/html": [
       "<div>\n",
       "<style scoped>\n",
       "    .dataframe tbody tr th:only-of-type {\n",
       "        vertical-align: middle;\n",
       "    }\n",
       "\n",
       "    .dataframe tbody tr th {\n",
       "        vertical-align: top;\n",
       "    }\n",
       "\n",
       "    .dataframe thead th {\n",
       "        text-align: right;\n",
       "    }\n",
       "</style>\n",
       "<table border=\"1\" class=\"dataframe\">\n",
       "  <thead>\n",
       "    <tr style=\"text-align: right;\">\n",
       "      <th></th>\n",
       "      <th>Age</th>\n",
       "      <th>Fare</th>\n",
       "      <th>Age_imputed</th>\n",
       "    </tr>\n",
       "  </thead>\n",
       "  <tbody>\n",
       "    <tr>\n",
       "      <th>753</th>\n",
       "      <td>23.0</td>\n",
       "      <td>7.8958</td>\n",
       "      <td>23.0</td>\n",
       "    </tr>\n",
       "    <tr>\n",
       "      <th>338</th>\n",
       "      <td>45.0</td>\n",
       "      <td>8.0500</td>\n",
       "      <td>45.0</td>\n",
       "    </tr>\n",
       "    <tr>\n",
       "      <th>611</th>\n",
       "      <td>NaN</td>\n",
       "      <td>7.0500</td>\n",
       "      <td>NaN</td>\n",
       "    </tr>\n",
       "    <tr>\n",
       "      <th>381</th>\n",
       "      <td>1.0</td>\n",
       "      <td>15.7417</td>\n",
       "      <td>1.0</td>\n",
       "    </tr>\n",
       "    <tr>\n",
       "      <th>362</th>\n",
       "      <td>45.0</td>\n",
       "      <td>14.4542</td>\n",
       "      <td>45.0</td>\n",
       "    </tr>\n",
       "  </tbody>\n",
       "</table>\n",
       "</div>"
      ],
      "text/plain": [
       "      Age     Fare  Age_imputed\n",
       "753  23.0   7.8958         23.0\n",
       "338  45.0   8.0500         45.0\n",
       "611   NaN   7.0500          NaN\n",
       "381   1.0  15.7417          1.0\n",
       "362  45.0  14.4542         45.0"
      ]
     },
     "execution_count": 8,
     "metadata": {},
     "output_type": "execute_result"
    }
   ],
   "source": [
    "x_train.sample(5)"
   ]
  },
  {
   "cell_type": "code",
   "execution_count": 32,
   "id": "5d99d27a-b638-43e7-a67f-35385cf704c3",
   "metadata": {},
   "outputs": [],
   "source": [
    "x_train.loc[x_train['Age_imputed'].isnull(), 'Age_imputed'] = x_train['Age'].dropna().sample(x_train['Age_imputed'].isnull().sum(), random_state= 42).values\n",
    "x_test.loc[x_test['Age_imputed'].isnull(), 'Age_imputed'] = x_train['Age'].dropna().sample(x_test['Age_imputed'].isnull().sum(), random_state= 42).values"
   ]
  },
  {
   "cell_type": "markdown",
   "id": "38df9434-a86c-4771-ad62-5415ef0287d4",
   "metadata": {},
   "source": [
    "### Review Sample Random Generate Value"
   ]
  },
  {
   "cell_type": "code",
   "execution_count": 33,
   "id": "df7e1a22-647f-4fea-8799-e91cc0722ff3",
   "metadata": {},
   "outputs": [
    {
     "data": {
      "text/plain": [
       "array([20, 24, 17, 17, 21, 17, 24, 26,  7, 20, 29, 60, 23, 61, 22, 35, 44,\n",
       "       44, 62,  2, 30, 47, 23,  9, 45, 40,  3, 16, 62, 45, 27, 33, 19, 32,\n",
       "       17, 50, 23, 21, 29, 18,  0, 25, 30, 37, 25, 23, 31, 47, 41, 22, 22,\n",
       "       38, 23, 34, 23,  8, 11, 51, 28, 58, 47, 70, 26, 19, 25, 40, 31, 42,\n",
       "        2, 52,  8, 36, 43, 14, 30, 35, 18, 26, 42, 65, 29, 50, 28, 56, 16,\n",
       "       36, 32, 33, 18, 24, 48, 39, 19, 65, 58, 28, 49, 32, 48, 31, 63, 45,\n",
       "       44,  6, 25, 31, 34, 31,  4, 22, 24, 28, 42, 38, 38, 33, 24, 17, 43,\n",
       "       33, 21, 11, 19, 46,  3, 21, 32, 32, 46, 33, 43, 58, 56, 27, 28, 27,\n",
       "       32, 31, 47,  2, 38, 25, 26, 36, 50, 29, 22, 56])"
      ]
     },
     "execution_count": 33,
     "metadata": {},
     "output_type": "execute_result"
    }
   ],
   "source": [
    "x_train['Age'].dropna().sample(x_train['Age'].isnull().sum()).values.astype(int)"
   ]
  },
  {
   "cell_type": "code",
   "execution_count": 34,
   "id": "ac72a4b3-0c25-49bf-a669-b431a0701693",
   "metadata": {},
   "outputs": [],
   "source": [
    "x_train['Age_imputed'] = x_train['Age_imputed'].astype(int)"
   ]
  },
  {
   "cell_type": "code",
   "execution_count": 35,
   "id": "900e45be-c546-49d9-916c-6121928658f0",
   "metadata": {},
   "outputs": [
    {
     "data": {
      "text/plain": [
       "(      Age      Fare  Age_imputed\n",
       " 30   40.0   27.7208           40\n",
       " 10    4.0   16.7000            4\n",
       " 873  47.0    9.0000           47\n",
       " 182   9.0   31.3875            9\n",
       " 876  20.0    9.8458           20\n",
       " ..    ...       ...          ...\n",
       " 534  30.0    8.6625           30\n",
       " 584   NaN    8.7125           18\n",
       " 493  71.0   49.5042           71\n",
       " 527   NaN  221.7792           21\n",
       " 168   NaN   25.9250           10\n",
       " \n",
       " [712 rows x 3 columns],\n",
       "       Age     Fare  Age_imputed\n",
       " 707  42.0  26.2875         42.0\n",
       " 37   21.0   8.0500         21.0\n",
       " 615  24.0  65.0000         24.0\n",
       " 169  28.0  56.4958         28.0\n",
       " 68   17.0   7.9250         17.0\n",
       " ..    ...      ...          ...\n",
       " 89   24.0   8.0500         24.0\n",
       " 80   22.0   9.0000         22.0\n",
       " 846   NaN  69.5500         25.0\n",
       " 870  26.0   7.8958         26.0\n",
       " 251  29.0  10.4625         29.0\n",
       " \n",
       " [179 rows x 3 columns])"
      ]
     },
     "execution_count": 35,
     "metadata": {},
     "output_type": "execute_result"
    }
   ],
   "source": [
    "x_train, x_test"
   ]
  },
  {
   "cell_type": "markdown",
   "id": "cb9cd2e6-dc2a-4c34-afc9-fa4846490888",
   "metadata": {},
   "source": [
    "### Compare Original Age and Imputed Age"
   ]
  },
  {
   "cell_type": "code",
   "execution_count": 51,
   "id": "dfb39162-7fa6-4605-9cad-3c768f118ef3",
   "metadata": {},
   "outputs": [
    {
     "data": {
      "image/png": "[encoded data removed]",
      "text/plain": [
       "<Figure size 500x500 with 1 Axes>"
      ]
     },
     "metadata": {},
     "output_type": "display_data"
    }
   ],
   "source": [
    "sns.displot(x_train['Age'], label = 'Original', kind = 'kde', legend = True, color = 'red')\n",
    "sns.kdeplot(x_train['Age_imputed'], label = 'Imputed', legend = True)\n",
    "plt.legend()\n",
    "plt.show()"
   ]
  },
  {
   "cell_type": "markdown",
   "id": "099b41b4-b9ba-4ae0-bb1e-9de494b5a361",
   "metadata": {},
   "source": [
    "### Compare Variable Variance"
   ]
  },
  {
   "cell_type": "code",
   "execution_count": 56,
   "id": "900d5f97-e972-4f53-9d75-c9edeb834f9c",
   "metadata": {},
   "outputs": [
    {
     "name": "stdout",
     "output_type": "stream",
     "text": [
      "Original Variable Variance: 204.35\n",
      "Variance after Random Imputation: 200.329\n"
     ]
    }
   ],
   "source": [
    "print(f'''Original Variable Variance: {x_train['Age'].var().round(3)}\n",
    "Variance after Random Imputation: {x_train['Age_imputed'].var().round(3)}''')"
   ]
  }
 ],
 "metadata": {
  "kernelspec": {
   "display_name": "Python 3 (ipykernel)",
   "language": "python",
   "name": "python3"
  },
  "language_info": {
   "codemirror_mode": {
    "name": "ipython",
    "version": 3
   },
   "file_extension": ".py",
   "mimetype": "text/x-python",
   "name": "python",
   "nbconvert_exporter": "python",
   "pygments_lexer": "ipython3",
   "version": "3.11.4"
  }
 },
 "nbformat": 4,
 "nbformat_minor": 5
}
