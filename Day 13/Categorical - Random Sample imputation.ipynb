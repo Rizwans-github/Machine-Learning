{
 "cells": [
  {
   "cell_type": "markdown",
   "id": "3060fd78-30ee-41ac-ae8f-f57000a75ba9",
   "metadata": {},
   "source": [
    "# Random Sample imputation for Categorical Data"
   ]
  },
  {
   "cell_type": "code",
   "execution_count": 1,
   "id": "0ebb42ea-af03-4d92-9369-9c4069c35a61",
   "metadata": {},
   "outputs": [],
   "source": [
    "import pandas as pd\n",
    "import numpy as np\n",
    "import seaborn as sns\n",
    "import matplotlib.pyplot as plt\n",
    "from sklearn.model_selection import train_test_split"
   ]
  },
  {
   "cell_type": "code",
   "execution_count": 2,
   "id": "c2264bec-808c-4106-9ddc-972231241753",
   "metadata": {},
   "outputs": [],
   "source": [
    "df = pd.read_csv('house-train.csv', usecols = ['FireplaceQu', 'GarageQual', 'SalePrice'])"
   ]
  },
  {
   "cell_type": "code",
   "execution_count": 3,
   "id": "0716836d-a1d8-4470-ab69-acde7d3e7423",
   "metadata": {},
   "outputs": [
    {
     "data": {
      "text/html": [
       "<div>\n",
       "<style scoped>\n",
       "    .dataframe tbody tr th:only-of-type {\n",
       "        vertical-align: middle;\n",
       "    }\n",
       "\n",
       "    .dataframe tbody tr th {\n",
       "        vertical-align: top;\n",
       "    }\n",
       "\n",
       "    .dataframe thead th {\n",
       "        text-align: right;\n",
       "    }\n",
       "</style>\n",
       "<table border=\"1\" class=\"dataframe\">\n",
       "  <thead>\n",
       "    <tr style=\"text-align: right;\">\n",
       "      <th></th>\n",
       "      <th>FireplaceQu</th>\n",
       "      <th>GarageQual</th>\n",
       "      <th>SalePrice</th>\n",
       "    </tr>\n",
       "  </thead>\n",
       "  <tbody>\n",
       "    <tr>\n",
       "      <th>1178</th>\n",
       "      <td>Gd</td>\n",
       "      <td>Fa</td>\n",
       "      <td>154900</td>\n",
       "    </tr>\n",
       "    <tr>\n",
       "      <th>102</th>\n",
       "      <td>NaN</td>\n",
       "      <td>TA</td>\n",
       "      <td>118964</td>\n",
       "    </tr>\n",
       "    <tr>\n",
       "      <th>1356</th>\n",
       "      <td>NaN</td>\n",
       "      <td>TA</td>\n",
       "      <td>110000</td>\n",
       "    </tr>\n",
       "    <tr>\n",
       "      <th>1242</th>\n",
       "      <td>TA</td>\n",
       "      <td>TA</td>\n",
       "      <td>170000</td>\n",
       "    </tr>\n",
       "  </tbody>\n",
       "</table>\n",
       "</div>"
      ],
      "text/plain": [
       "     FireplaceQu GarageQual  SalePrice\n",
       "1178          Gd         Fa     154900\n",
       "102          NaN         TA     118964\n",
       "1356         NaN         TA     110000\n",
       "1242          TA         TA     170000"
      ]
     },
     "execution_count": 3,
     "metadata": {},
     "output_type": "execute_result"
    }
   ],
   "source": [
    "df.sample(4)"
   ]
  },
  {
   "cell_type": "markdown",
   "id": "fa7c5ca6-81c2-46dd-937e-4ca5f8a24e35",
   "metadata": {},
   "source": [
    "### Checking Null values"
   ]
  },
  {
   "cell_type": "code",
   "execution_count": 4,
   "id": "1321b758-b411-4697-8652-794f54774e5b",
   "metadata": {},
   "outputs": [
    {
     "data": {
      "text/plain": [
       "FireplaceQu    47.260274\n",
       "GarageQual      5.547945\n",
       "SalePrice       0.000000\n",
       "dtype: float64"
      ]
     },
     "execution_count": 4,
     "metadata": {},
     "output_type": "execute_result"
    }
   ],
   "source": [
    "df.isnull().mean()*100"
   ]
  },
  {
   "cell_type": "markdown",
   "id": "ef593a9d-0fac-4a80-9a0f-1dedfae339ab",
   "metadata": {},
   "source": [
    "### Creatign X and Y \n"
   ]
  },
  {
   "cell_type": "code",
   "execution_count": 5,
   "id": "a00d7339-dcf0-4fa7-9bc0-de024f853a23",
   "metadata": {},
   "outputs": [],
   "source": [
    "x = df\n",
    "y = df['SalePrice']"
   ]
  },
  {
   "cell_type": "code",
   "execution_count": 6,
   "id": "4b18b9c2-48fc-4c17-8a4b-43ad1fcac7d6",
   "metadata": {},
   "outputs": [],
   "source": [
    "x_train, x_test, y_train, y_test = train_test_split(x, y, test_size = 0.2, random_state= 2)"
   ]
  },
  {
   "cell_type": "code",
   "execution_count": 7,
   "id": "29c81f6b-22cf-4d67-aac1-4d3ef02df251",
   "metadata": {},
   "outputs": [
    {
     "data": {
      "text/html": [
       "<div>\n",
       "<style scoped>\n",
       "    .dataframe tbody tr th:only-of-type {\n",
       "        vertical-align: middle;\n",
       "    }\n",
       "\n",
       "    .dataframe tbody tr th {\n",
       "        vertical-align: top;\n",
       "    }\n",
       "\n",
       "    .dataframe thead th {\n",
       "        text-align: right;\n",
       "    }\n",
       "</style>\n",
       "<table border=\"1\" class=\"dataframe\">\n",
       "  <thead>\n",
       "    <tr style=\"text-align: right;\">\n",
       "      <th></th>\n",
       "      <th>FireplaceQu</th>\n",
       "      <th>GarageQual</th>\n",
       "      <th>SalePrice</th>\n",
       "    </tr>\n",
       "  </thead>\n",
       "  <tbody>\n",
       "    <tr>\n",
       "      <th>455</th>\n",
       "      <td>TA</td>\n",
       "      <td>TA</td>\n",
       "      <td>175500</td>\n",
       "    </tr>\n",
       "    <tr>\n",
       "      <th>863</th>\n",
       "      <td>NaN</td>\n",
       "      <td>TA</td>\n",
       "      <td>132500</td>\n",
       "    </tr>\n",
       "    <tr>\n",
       "      <th>504</th>\n",
       "      <td>Fa</td>\n",
       "      <td>TA</td>\n",
       "      <td>147000</td>\n",
       "    </tr>\n",
       "    <tr>\n",
       "      <th>1413</th>\n",
       "      <td>Gd</td>\n",
       "      <td>TA</td>\n",
       "      <td>257000</td>\n",
       "    </tr>\n",
       "    <tr>\n",
       "      <th>1389</th>\n",
       "      <td>Gd</td>\n",
       "      <td>TA</td>\n",
       "      <td>131000</td>\n",
       "    </tr>\n",
       "    <tr>\n",
       "      <th>...</th>\n",
       "      <td>...</td>\n",
       "      <td>...</td>\n",
       "      <td>...</td>\n",
       "    </tr>\n",
       "    <tr>\n",
       "      <th>466</th>\n",
       "      <td>Po</td>\n",
       "      <td>TA</td>\n",
       "      <td>167000</td>\n",
       "    </tr>\n",
       "    <tr>\n",
       "      <th>299</th>\n",
       "      <td>Gd</td>\n",
       "      <td>TA</td>\n",
       "      <td>158500</td>\n",
       "    </tr>\n",
       "    <tr>\n",
       "      <th>493</th>\n",
       "      <td>Fa</td>\n",
       "      <td>TA</td>\n",
       "      <td>155000</td>\n",
       "    </tr>\n",
       "    <tr>\n",
       "      <th>527</th>\n",
       "      <td>Gd</td>\n",
       "      <td>TA</td>\n",
       "      <td>446261</td>\n",
       "    </tr>\n",
       "    <tr>\n",
       "      <th>1192</th>\n",
       "      <td>NaN</td>\n",
       "      <td>TA</td>\n",
       "      <td>125000</td>\n",
       "    </tr>\n",
       "  </tbody>\n",
       "</table>\n",
       "<p>1168 rows × 3 columns</p>\n",
       "</div>"
      ],
      "text/plain": [
       "     FireplaceQu GarageQual  SalePrice\n",
       "455           TA         TA     175500\n",
       "863          NaN         TA     132500\n",
       "504           Fa         TA     147000\n",
       "1413          Gd         TA     257000\n",
       "1389          Gd         TA     131000\n",
       "...          ...        ...        ...\n",
       "466           Po         TA     167000\n",
       "299           Gd         TA     158500\n",
       "493           Fa         TA     155000\n",
       "527           Gd         TA     446261\n",
       "1192         NaN         TA     125000\n",
       "\n",
       "[1168 rows x 3 columns]"
      ]
     },
     "execution_count": 7,
     "metadata": {},
     "output_type": "execute_result"
    }
   ],
   "source": [
    "x_train"
   ]
  },
  {
   "cell_type": "markdown",
   "id": "e0ec3c10-c386-42ef-9242-04b6513ca7a2",
   "metadata": {},
   "source": [
    "### New column create in Both Garage & Fire place"
   ]
  },
  {
   "cell_type": "code",
   "execution_count": 8,
   "id": "ed287c36-6627-4e84-8afa-29d513b8cbb9",
   "metadata": {},
   "outputs": [],
   "source": [
    "x_train['GarageQual_imputed'] = x_train['GarageQual'] \n",
    "x_test['GarageQual_imputed'] = x_test['GarageQual'] \n",
    "x_train['FireplaceQu_imputed'] = x_train['FireplaceQu']\n",
    "x_test['FireplaceQu_imputed'] = x_test['FireplaceQu']"
   ]
  },
  {
   "cell_type": "markdown",
   "id": "a283d676-67f8-4e2a-b592-d91a554cd9e5",
   "metadata": {},
   "source": [
    "### Replace Garage Value and Fireplace Imputed"
   ]
  },
  {
   "cell_type": "code",
   "execution_count": 15,
   "id": "4080634f-227a-47c3-8a16-8206a9f83b7f",
   "metadata": {},
   "outputs": [],
   "source": [
    "x_train.loc[x_train['GarageQual_imputed'].isnull(), 'GarageQual_imputed'] = x_train['GarageQual'].dropna().sample(x_train['GarageQual_imputed'].isnull().sum(), random_state=42).values\n",
    "x_test.loc[x_test['GarageQual_imputed'].isnull(), 'GarageQual_imputed'] = x_train['GarageQual'].dropna().sample(x_test['GarageQual_imputed'].isnull().sum(), random_state= 42).values\n",
    "x_train.loc[x_train['FireplaceQu_imputed'].isnull(), 'FireplaceQu_imputed'] = x_train['FireplaceQu'].dropna().sample(x_train['FireplaceQu_imputed'].isnull().sum(), random_state = 42).values\n",
    "x_test.loc[x_test['FireplaceQu_imputed'].isnull(),'FireplaceQu_imputed'] = x_train['FireplaceQu'].dropna().sample(x_test['FireplaceQu_imputed'].isnull().sum(), random_state = 42).values"
   ]
  },
  {
   "cell_type": "code",
   "execution_count": 16,
   "id": "b6b5c243-a893-4fc2-b9b1-67b6c850d48c",
   "metadata": {},
   "outputs": [
    {
     "data": {
      "text/plain": [
       "(     FireplaceQu GarageQual  SalePrice GarageQual_imputed FireplaceQu_imputed\n",
       " 913          NaN         TA     145000                 TA                  TA\n",
       " 392          NaN         TA     106500                 TA                  Gd\n",
       " 99           NaN        NaN     128950                 TA                  TA\n",
       " 1209          Gd         TA     290000                 TA                  Gd\n",
       " 746           TA         TA     236000                 TA                  TA\n",
       " 432          NaN         TA     122500                 TA                  Gd\n",
       " 113           Gd         TA     217000                 TA                  Gd\n",
       " 1058          Gd         TA     335000                 TA                  Gd\n",
       " 251           Gd         TA     235000                 TA                  Gd\n",
       " 345           Gd         TA     140200                 TA                  Gd,\n",
       "      FireplaceQu GarageQual  SalePrice GarageQual_imputed FireplaceQu_imputed\n",
       " 188           TA         TA     153337                 TA                  TA\n",
       " 1439          TA         TA     197000                 TA                  TA\n",
       " 1008          Gd         TA     240000                 TA                  Gd\n",
       " 1259         NaN         TA     151000                 TA                  TA\n",
       " 308          NaN         TA      82500                 TA                  TA\n",
       " 1237          Gd         TA     195000                 TA                  Gd\n",
       " 614          NaN        NaN      75500                 TA                  Ex\n",
       " 1214         NaN         TA     134500                 TA                  Gd\n",
       " 540           Gd         TA     315000                 TA                  Gd\n",
       " 672           TA         TA     165000                 TA                  TA)"
      ]
     },
     "execution_count": 16,
     "metadata": {},
     "output_type": "execute_result"
    }
   ],
   "source": [
    "x_train.sample(10, random_state=42), x_test.sample(10, random_state=42)"
   ]
  },
  {
   "cell_type": "markdown",
   "id": "f9017991-ea3f-46ae-94f7-58a102ca13df",
   "metadata": {},
   "source": [
    "### Review Frequency in Garage Original & Imputed"
   ]
  },
  {
   "cell_type": "code",
   "execution_count": 28,
   "id": "decb1a37-a03e-408f-8602-2b7938a4ba06",
   "metadata": {},
   "outputs": [],
   "source": [
    "temp = pd.concat(\n",
    "   [x_train['GarageQual'].value_counts() / len(x_train['GarageQual'].dropna()), \n",
    "    x_train['GarageQual_imputed'].value_counts() / len(x_train)], axis =1\n",
    ")\n",
    "temp.columns = ['Original','Imputed']"
   ]
  },
  {
   "cell_type": "code",
   "execution_count": 29,
   "id": "bdfd553c-57db-4b15-9fa6-1ca24e868b3e",
   "metadata": {},
   "outputs": [
    {
     "data": {
      "text/html": [
       "<div>\n",
       "<style scoped>\n",
       "    .dataframe tbody tr th:only-of-type {\n",
       "        vertical-align: middle;\n",
       "    }\n",
       "\n",
       "    .dataframe tbody tr th {\n",
       "        vertical-align: top;\n",
       "    }\n",
       "\n",
       "    .dataframe thead th {\n",
       "        text-align: right;\n",
       "    }\n",
       "</style>\n",
       "<table border=\"1\" class=\"dataframe\">\n",
       "  <thead>\n",
       "    <tr style=\"text-align: right;\">\n",
       "      <th></th>\n",
       "      <th>Original</th>\n",
       "      <th>Imputed</th>\n",
       "    </tr>\n",
       "  </thead>\n",
       "  <tbody>\n",
       "    <tr>\n",
       "      <th>TA</th>\n",
       "      <td>0.951043</td>\n",
       "      <td>0.952055</td>\n",
       "    </tr>\n",
       "    <tr>\n",
       "      <th>Fa</th>\n",
       "      <td>0.037171</td>\n",
       "      <td>0.036815</td>\n",
       "    </tr>\n",
       "    <tr>\n",
       "      <th>Gd</th>\n",
       "      <td>0.009973</td>\n",
       "      <td>0.009418</td>\n",
       "    </tr>\n",
       "    <tr>\n",
       "      <th>Po</th>\n",
       "      <td>0.000907</td>\n",
       "      <td>0.000856</td>\n",
       "    </tr>\n",
       "    <tr>\n",
       "      <th>Ex</th>\n",
       "      <td>0.000907</td>\n",
       "      <td>0.000856</td>\n",
       "    </tr>\n",
       "  </tbody>\n",
       "</table>\n",
       "</div>"
      ],
      "text/plain": [
       "    Original   Imputed\n",
       "TA  0.951043  0.952055\n",
       "Fa  0.037171  0.036815\n",
       "Gd  0.009973  0.009418\n",
       "Po  0.000907  0.000856\n",
       "Ex  0.000907  0.000856"
      ]
     },
     "execution_count": 29,
     "metadata": {},
     "output_type": "execute_result"
    }
   ],
   "source": [
    "temp"
   ]
  },
  {
   "cell_type": "markdown",
   "id": "bb1b9600-11b6-4cb3-90ba-3c84b5b9c17b",
   "metadata": {},
   "source": [
    "### Review Frequency in Fireplace Original & Imputed"
   ]
  },
  {
   "cell_type": "code",
   "execution_count": 32,
   "id": "c97e2df8-a913-4668-980c-b17b066d0e6a",
   "metadata": {},
   "outputs": [],
   "source": [
    "temp = pd.concat(\n",
    "    [x_train['FireplaceQu'].value_counts() / len(x_train['FireplaceQu'].dropna()),\n",
    "    x_train['FireplaceQu_imputed'].value_counts() / len(x_train)], axis = 1\n",
    ")\n",
    "temp.columns = ['Original', 'Imputed']"
   ]
  },
  {
   "cell_type": "code",
   "execution_count": 34,
   "id": "0e515b20-2ae8-422d-b2dd-2aa8579d60ee",
   "metadata": {},
   "outputs": [
    {
     "data": {
      "text/html": [
       "<div>\n",
       "<style scoped>\n",
       "    .dataframe tbody tr th:only-of-type {\n",
       "        vertical-align: middle;\n",
       "    }\n",
       "\n",
       "    .dataframe tbody tr th {\n",
       "        vertical-align: top;\n",
       "    }\n",
       "\n",
       "    .dataframe thead th {\n",
       "        text-align: right;\n",
       "    }\n",
       "</style>\n",
       "<table border=\"1\" class=\"dataframe\">\n",
       "  <thead>\n",
       "    <tr style=\"text-align: right;\">\n",
       "      <th></th>\n",
       "      <th>Original</th>\n",
       "      <th>Imputed</th>\n",
       "    </tr>\n",
       "  </thead>\n",
       "  <tbody>\n",
       "    <tr>\n",
       "      <th>Gd</th>\n",
       "      <td>0.494272</td>\n",
       "      <td>0.500000</td>\n",
       "    </tr>\n",
       "    <tr>\n",
       "      <th>TA</th>\n",
       "      <td>0.412439</td>\n",
       "      <td>0.406678</td>\n",
       "    </tr>\n",
       "    <tr>\n",
       "      <th>Fa</th>\n",
       "      <td>0.040917</td>\n",
       "      <td>0.040240</td>\n",
       "    </tr>\n",
       "    <tr>\n",
       "      <th>Po</th>\n",
       "      <td>0.027823</td>\n",
       "      <td>0.028253</td>\n",
       "    </tr>\n",
       "    <tr>\n",
       "      <th>Ex</th>\n",
       "      <td>0.024550</td>\n",
       "      <td>0.024829</td>\n",
       "    </tr>\n",
       "  </tbody>\n",
       "</table>\n",
       "</div>"
      ],
      "text/plain": [
       "    Original   Imputed\n",
       "Gd  0.494272  0.500000\n",
       "TA  0.412439  0.406678\n",
       "Fa  0.040917  0.040240\n",
       "Po  0.027823  0.028253\n",
       "Ex  0.024550  0.024829"
      ]
     },
     "execution_count": 34,
     "metadata": {},
     "output_type": "execute_result"
    }
   ],
   "source": [
    "temp"
   ]
  },
  {
   "cell_type": "markdown",
   "id": "2fd6e265-7b80-4bb2-9ac2-6ef0e6ba8c41",
   "metadata": {},
   "source": [
    "### Compare category Fireplace before Imputation"
   ]
  },
  {
   "cell_type": "code",
   "execution_count": 45,
   "id": "5fc0e40c-8a09-4674-b562-b0b32e3c5f0d",
   "metadata": {},
   "outputs": [
    {
     "data": {
      "image/png": "[encoded data removed]",
      "text/plain": [
       "<Figure size 640x480 with 1 Axes>"
      ]
     },
     "metadata": {},
     "output_type": "display_data"
    }
   ],
   "source": [
    "for category in x_train['FireplaceQu'].dropna().unique():\n",
    "    sns.kdeplot(x_train[x_train['FireplaceQu'] == category]['SalePrice'], label = category)\n",
    "plt.legend()\n",
    "plt.show()"
   ]
  },
  {
   "cell_type": "code",
   "execution_count": 47,
   "id": "32bc6b0f-973d-4563-8dfd-e32c7948dd8a",
   "metadata": {},
   "outputs": [
    {
     "data": {
      "image/png": "[encoded data removed]",
      "text/plain": [
       "<Figure size 640x480 with 1 Axes>"
      ]
     },
     "metadata": {},
     "output_type": "display_data"
    }
   ],
   "source": [
    "for category in x_train['FireplaceQu_imputed'].dropna().unique():\n",
    "    sns.kdeplot(x_train[x_train['FireplaceQu_imputed'] == category]['SalePrice'], label = category)\n",
    "plt.legend()\n",
    "plt.show()"
   ]
  },
  {
   "cell_type": "code",
   "execution_count": null,
   "id": "63e5b295-d876-4c11-b818-37adfd7b61f9",
   "metadata": {},
   "outputs": [],
   "source": []
  }
 ],
 "metadata": {
  "kernelspec": {
   "display_name": "Python 3 (ipykernel)",
   "language": "python",
   "name": "python3"
  },
  "language_info": {
   "codemirror_mode": {
    "name": "ipython",
    "version": 3
   },
   "file_extension": ".py",
   "mimetype": "text/x-python",
   "name": "python",
   "nbconvert_exporter": "python",
   "pygments_lexer": "ipython3",
   "version": "3.11.4"
  }
 },
 "nbformat": 4,
 "nbformat_minor": 5
}
