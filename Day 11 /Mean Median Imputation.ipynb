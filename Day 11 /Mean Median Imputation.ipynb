{
 "cells": [
  {
   "cell_type": "markdown",
   "id": "7022888e-de6e-41e5-bb3a-a1ae25192022",
   "metadata": {},
   "source": [
    "# Mean Median Imputation"
   ]
  },
  {
   "cell_type": "markdown",
   "id": "824796c2-2f6b-4944-a94e-77a8d68d16d5",
   "metadata": {},
   "source": [
    "import pandas as pd\n",
    "import numpy as np\n",
    "import matplotlib.pyplot as plt"
   ]
  },
  {
   "cell_type": "markdown",
   "id": "e2653a64-6d5b-4716-9d9b-4115389b1e23",
   "metadata": {},
   "source": [
    "### Importing Sklearn Libraries"
   ]
  },
  {
   "cell_type": "code",
   "execution_count": 2,
   "id": "79c62742-4905-44f7-9a3d-2c822bdf8049",
   "metadata": {},
   "outputs": [],
   "source": [
    "from sklearn.model_selection import train_test_split\n",
    "from sklearn.impute import SimpleImputer\n",
    "from sklearn.compose import ColumnTransformer\n",
    "# We can use Sklearn to create mean and median for the missing values, haven't used it this time."
   ]
  },
  {
   "cell_type": "code",
   "execution_count": 3,
   "id": "3c344fbd-2d91-4526-9ff7-b5c2811dc9fd",
   "metadata": {},
   "outputs": [],
   "source": [
    "df = pd.read_csv('titanic_toy.csv')"
   ]
  },
  {
   "cell_type": "code",
   "execution_count": 4,
   "id": "45ba3119-0c5d-420f-9a80-16cc337fce10",
   "metadata": {},
   "outputs": [
    {
     "data": {
      "text/html": [
       "<div>\n",
       "<style scoped>\n",
       "    .dataframe tbody tr th:only-of-type {\n",
       "        vertical-align: middle;\n",
       "    }\n",
       "\n",
       "    .dataframe tbody tr th {\n",
       "        vertical-align: top;\n",
       "    }\n",
       "\n",
       "    .dataframe thead th {\n",
       "        text-align: right;\n",
       "    }\n",
       "</style>\n",
       "<table border=\"1\" class=\"dataframe\">\n",
       "  <thead>\n",
       "    <tr style=\"text-align: right;\">\n",
       "      <th></th>\n",
       "      <th>Age</th>\n",
       "      <th>Fare</th>\n",
       "      <th>Family</th>\n",
       "      <th>Survived</th>\n",
       "    </tr>\n",
       "  </thead>\n",
       "  <tbody>\n",
       "    <tr>\n",
       "      <th>461</th>\n",
       "      <td>34.0</td>\n",
       "      <td>8.0500</td>\n",
       "      <td>0</td>\n",
       "      <td>0</td>\n",
       "    </tr>\n",
       "    <tr>\n",
       "      <th>524</th>\n",
       "      <td>NaN</td>\n",
       "      <td>7.2292</td>\n",
       "      <td>0</td>\n",
       "      <td>0</td>\n",
       "    </tr>\n",
       "    <tr>\n",
       "      <th>353</th>\n",
       "      <td>25.0</td>\n",
       "      <td>17.8000</td>\n",
       "      <td>1</td>\n",
       "      <td>0</td>\n",
       "    </tr>\n",
       "  </tbody>\n",
       "</table>\n",
       "</div>"
      ],
      "text/plain": [
       "      Age     Fare  Family  Survived\n",
       "461  34.0   8.0500       0         0\n",
       "524   NaN   7.2292       0         0\n",
       "353  25.0  17.8000       1         0"
      ]
     },
     "execution_count": 4,
     "metadata": {},
     "output_type": "execute_result"
    }
   ],
   "source": [
    "df.sample(3)"
   ]
  },
  {
   "cell_type": "code",
   "execution_count": 5,
   "id": "044e1abe-192b-4f82-b8c7-9462cc002bc2",
   "metadata": {},
   "outputs": [
    {
     "name": "stdout",
     "output_type": "stream",
     "text": [
      "<class 'pandas.core.frame.DataFrame'>\n",
      "RangeIndex: 891 entries, 0 to 890\n",
      "Data columns (total 4 columns):\n",
      " #   Column    Non-Null Count  Dtype  \n",
      "---  ------    --------------  -----  \n",
      " 0   Age       714 non-null    float64\n",
      " 1   Fare      846 non-null    float64\n",
      " 2   Family    891 non-null    int64  \n",
      " 3   Survived  891 non-null    int64  \n",
      "dtypes: float64(2), int64(2)\n",
      "memory usage: 28.0 KB\n"
     ]
    }
   ],
   "source": [
    "df.info()"
   ]
  },
  {
   "cell_type": "markdown",
   "id": "a1654f48-d687-44ad-9b81-c0dc7332e328",
   "metadata": {},
   "source": [
    "### Performing Train Test Split"
   ]
  },
  {
   "cell_type": "code",
   "execution_count": 6,
   "id": "764a6afc-a025-4d65-b481-17d262909319",
   "metadata": {},
   "outputs": [],
   "source": [
    "x = df.drop(columns = ['Survived'])\n",
    "y = df['Survived']"
   ]
  },
  {
   "cell_type": "code",
   "execution_count": 7,
   "id": "9891d6bd-f995-4317-9e21-dd3ec1a5d08c",
   "metadata": {},
   "outputs": [],
   "source": [
    "x_train, x_test, y_train, y_test = train_test_split(x, y, test_size = 0.2, random_state = 2)"
   ]
  },
  {
   "cell_type": "code",
   "execution_count": 8,
   "id": "396d6920-9b38-4c09-a1da-bad95baa6f96",
   "metadata": {},
   "outputs": [
    {
     "data": {
      "text/plain": [
       "((712, 3), (179, 3), (712,), (179,))"
      ]
     },
     "execution_count": 8,
     "metadata": {},
     "output_type": "execute_result"
    }
   ],
   "source": [
    "x_train.shape, x_test.shape, y_train.shape, y_test.shape"
   ]
  },
  {
   "cell_type": "code",
   "execution_count": 9,
   "id": "fcd1cc17-f2a6-41ad-934e-8a2192d853cb",
   "metadata": {},
   "outputs": [
    {
     "data": {
      "text/plain": [
       "Age       20.79\n",
       "Fare       5.06\n",
       "Family     0.00\n",
       "dtype: float64"
      ]
     },
     "execution_count": 9,
     "metadata": {},
     "output_type": "execute_result"
    }
   ],
   "source": [
    "round((x_train.isnull().mean()*100),2)"
   ]
  },
  {
   "cell_type": "markdown",
   "id": "996265ef-e1f6-4d0a-b767-997853227a7f",
   "metadata": {},
   "source": [
    "### Calculate Mean and Median (Age | Fare)"
   ]
  },
  {
   "cell_type": "code",
   "execution_count": 10,
   "id": "6e7c5ffd-6005-4396-bc06-99e70fefe67c",
   "metadata": {},
   "outputs": [],
   "source": [
    "mean_age= (x_train['Age'].mean()).round(2)\n",
    "median_age = (x_train['Age'].median()).round(2)\n",
    "mean_fare = (x_train['Fare'].mean()).round(2)\n",
    "median_fare = (x_train['Fare'].median()).round(2)"
   ]
  },
  {
   "cell_type": "code",
   "execution_count": 11,
   "id": "055847d5-5538-4e8e-a3a6-4cba5d725439",
   "metadata": {},
   "outputs": [],
   "source": [
    "x_train['Age_mean'] = x_train['Age'].fillna(mean_age)\n",
    "x_train['Age_median'] = x_train['Age'].fillna(median_age)\n",
    "x_train['Fare_mean'] = x_train['Fare'].fillna(mean_fare)\n",
    "x_train['Fare_median'] = x_train['Fare'].fillna(median_fare)"
   ]
  },
  {
   "cell_type": "code",
   "execution_count": 12,
   "id": "2516dad9-713a-4733-8e01-b2b5e01d537a",
   "metadata": {},
   "outputs": [
    {
     "data": {
      "text/html": [
       "<div>\n",
       "<style scoped>\n",
       "    .dataframe tbody tr th:only-of-type {\n",
       "        vertical-align: middle;\n",
       "    }\n",
       "\n",
       "    .dataframe tbody tr th {\n",
       "        vertical-align: top;\n",
       "    }\n",
       "\n",
       "    .dataframe thead th {\n",
       "        text-align: right;\n",
       "    }\n",
       "</style>\n",
       "<table border=\"1\" class=\"dataframe\">\n",
       "  <thead>\n",
       "    <tr style=\"text-align: right;\">\n",
       "      <th></th>\n",
       "      <th>Age</th>\n",
       "      <th>Fare</th>\n",
       "      <th>Family</th>\n",
       "      <th>Age_mean</th>\n",
       "      <th>Age_median</th>\n",
       "      <th>Fare_mean</th>\n",
       "      <th>Fare_median</th>\n",
       "    </tr>\n",
       "  </thead>\n",
       "  <tbody>\n",
       "    <tr>\n",
       "      <th>43</th>\n",
       "      <td>3.0</td>\n",
       "      <td>41.5792</td>\n",
       "      <td>3</td>\n",
       "      <td>3.00</td>\n",
       "      <td>3.00</td>\n",
       "      <td>41.5792</td>\n",
       "      <td>41.5792</td>\n",
       "    </tr>\n",
       "    <tr>\n",
       "      <th>868</th>\n",
       "      <td>NaN</td>\n",
       "      <td>9.5000</td>\n",
       "      <td>0</td>\n",
       "      <td>29.79</td>\n",
       "      <td>28.75</td>\n",
       "      <td>9.5000</td>\n",
       "      <td>9.5000</td>\n",
       "    </tr>\n",
       "    <tr>\n",
       "      <th>624</th>\n",
       "      <td>21.0</td>\n",
       "      <td>16.1000</td>\n",
       "      <td>0</td>\n",
       "      <td>21.00</td>\n",
       "      <td>21.00</td>\n",
       "      <td>16.1000</td>\n",
       "      <td>16.1000</td>\n",
       "    </tr>\n",
       "  </tbody>\n",
       "</table>\n",
       "</div>"
      ],
      "text/plain": [
       "      Age     Fare  Family  Age_mean  Age_median  Fare_mean  Fare_median\n",
       "43    3.0  41.5792       3      3.00        3.00    41.5792      41.5792\n",
       "868   NaN   9.5000       0     29.79       28.75     9.5000       9.5000\n",
       "624  21.0  16.1000       0     21.00       21.00    16.1000      16.1000"
      ]
     },
     "execution_count": 12,
     "metadata": {},
     "output_type": "execute_result"
    }
   ],
   "source": [
    "x_train.sample(3)"
   ]
  },
  {
   "cell_type": "markdown",
   "id": "675d8c3f-bcef-4c1e-9bc4-215c46ccc710",
   "metadata": {},
   "source": [
    "### Review Variance"
   ]
  },
  {
   "cell_type": "code",
   "execution_count": 13,
   "id": "063eb241-bac7-40f1-ae91-bdd8356b16fb",
   "metadata": {},
   "outputs": [
    {
     "name": "stdout",
     "output_type": "stream",
     "text": [
      "Original Age Variable variance:  204.34951339046142 \n",
      "Age Variance after median impute:  161.98956633460548 \n",
      "Age Variance after mean impute:  161.81262729321736 \n",
      "Original Fare Variable variance:  2448.1979137063163 \n",
      "Fare Variance after median impute:  2340.0880540209905 \n",
      "Fare Variance after mean impute:  2324.2385259481703\n"
     ]
    }
   ],
   "source": [
    "print('Original Age Variable variance: ', x_train['Age'].var(),'\\n'\n",
    "      'Age Variance after median impute: ', x_train['Age_median'].var(), '\\n'\n",
    "      'Age Variance after mean impute: ', x_train['Age_mean'].var(), '\\n'\n",
    "     'Original Fare Variable variance: ', x_train['Fare'].var(), '\\n'\n",
    "     'Fare Variance after median impute: ', x_train['Fare_median'].var(), '\\n'\n",
    "     'Fare Variance after mean impute: ', x_train['Fare_mean'].var())"
   ]
  },
  {
   "cell_type": "markdown",
   "id": "7383fded-a228-426b-84ae-c77e24b1f39d",
   "metadata": {},
   "source": [
    "### Changes in Distribution in Age"
   ]
  },
  {
   "cell_type": "code",
   "execution_count": 14,
   "id": "4780ebf5-6ce2-4fee-b580-8e7516440bbd",
   "metadata": {},
   "outputs": [
    {
     "data": {
      "image/png": "[encoded data removed]",
      "text/plain": [
       "<Figure size 640x480 with 1 Axes>"
      ]
     },
     "metadata": {},
     "output_type": "display_data"
    }
   ],
   "source": [
    "fig = plt.figure()\n",
    "ax = fig.add_subplot(111)\n",
    "# original variable distribution\n",
    "# x_train['Age'].plot.density( ax= ax, color = 'red') or the one below are same \n",
    "x_train['Age'].plot(kind= 'kde', ax = ax, legend = True)\n",
    "x_train['Age_median'].plot(kind = 'kde', ax = ax, color = 'red', legend = True)\n",
    "x_train['Age_mean'].plot(kind = 'kde', ax = ax, color = 'green', legend = True)\n",
    "\n",
    "plt.show()"
   ]
  },
  {
   "cell_type": "markdown",
   "id": "d65bcf26-ba2c-4ab4-b36d-d4ba3eb0b3c5",
   "metadata": {},
   "source": [
    "### Changes in Distribution in Fare"
   ]
  },
  {
   "cell_type": "code",
   "execution_count": 15,
   "id": "461de835-bfa9-4aa1-b08f-b7cd2f18a92f",
   "metadata": {},
   "outputs": [
    {
     "data": {
      "image/png": "[encoded data removed]",
      "text/plain": [
       "<Figure size 640x480 with 1 Axes>"
      ]
     },
     "metadata": {},
     "output_type": "display_data"
    }
   ],
   "source": [
    "fig = plt.figure()\n",
    "ax = fig.add_subplot(111)\n",
    "x_train['Fare'].plot(kind = 'kde', ax = ax, legend = True)\n",
    "x_train['Fare_median'].plot(kind= 'kde', ax = ax, legend = True, color = 'red')\n",
    "x_train['Fare_mean'].plot(kind= 'kde', ax = ax, legend = True, color = 'green')\n",
    "plt.show()"
   ]
  },
  {
   "cell_type": "markdown",
   "id": "7f6e42a5-6ded-4253-a318-de03c33d0ee2",
   "metadata": {},
   "source": [
    "### Check Covariance\n"
   ]
  },
  {
   "cell_type": "code",
   "execution_count": 16,
   "id": "616305a1-8fe8-4631-aad1-7cd1a4b7a70a",
   "metadata": {},
   "outputs": [
    {
     "data": {
      "text/html": [
       "<div>\n",
       "<style scoped>\n",
       "    .dataframe tbody tr th:only-of-type {\n",
       "        vertical-align: middle;\n",
       "    }\n",
       "\n",
       "    .dataframe tbody tr th {\n",
       "        vertical-align: top;\n",
       "    }\n",
       "\n",
       "    .dataframe thead th {\n",
       "        text-align: right;\n",
       "    }\n",
       "</style>\n",
       "<table border=\"1\" class=\"dataframe\">\n",
       "  <thead>\n",
       "    <tr style=\"text-align: right;\">\n",
       "      <th></th>\n",
       "      <th>Age</th>\n",
       "      <th>Fare</th>\n",
       "      <th>Family</th>\n",
       "      <th>Age_mean</th>\n",
       "      <th>Age_median</th>\n",
       "      <th>Fare_mean</th>\n",
       "      <th>Fare_median</th>\n",
       "    </tr>\n",
       "  </thead>\n",
       "  <tbody>\n",
       "    <tr>\n",
       "      <th>Age</th>\n",
       "      <td>204.3</td>\n",
       "      <td>70.7</td>\n",
       "      <td>-6.5</td>\n",
       "      <td>204.3</td>\n",
       "      <td>204.3</td>\n",
       "      <td>66.7</td>\n",
       "      <td>64.9</td>\n",
       "    </tr>\n",
       "    <tr>\n",
       "      <th>Fare</th>\n",
       "      <td>70.7</td>\n",
       "      <td>2448.2</td>\n",
       "      <td>17.3</td>\n",
       "      <td>55.6</td>\n",
       "      <td>58.0</td>\n",
       "      <td>2448.2</td>\n",
       "      <td>2448.2</td>\n",
       "    </tr>\n",
       "    <tr>\n",
       "      <th>Family</th>\n",
       "      <td>-6.5</td>\n",
       "      <td>17.3</td>\n",
       "      <td>2.7</td>\n",
       "      <td>-5.1</td>\n",
       "      <td>-5.1</td>\n",
       "      <td>16.4</td>\n",
       "      <td>16.5</td>\n",
       "    </tr>\n",
       "    <tr>\n",
       "      <th>Age_mean</th>\n",
       "      <td>204.3</td>\n",
       "      <td>55.6</td>\n",
       "      <td>-5.1</td>\n",
       "      <td>161.8</td>\n",
       "      <td>161.8</td>\n",
       "      <td>52.8</td>\n",
       "      <td>51.3</td>\n",
       "    </tr>\n",
       "    <tr>\n",
       "      <th>Age_median</th>\n",
       "      <td>204.3</td>\n",
       "      <td>58.0</td>\n",
       "      <td>-5.1</td>\n",
       "      <td>161.8</td>\n",
       "      <td>162.0</td>\n",
       "      <td>55.0</td>\n",
       "      <td>53.6</td>\n",
       "    </tr>\n",
       "    <tr>\n",
       "      <th>Fare_mean</th>\n",
       "      <td>66.7</td>\n",
       "      <td>2448.2</td>\n",
       "      <td>16.4</td>\n",
       "      <td>52.8</td>\n",
       "      <td>55.0</td>\n",
       "      <td>2324.2</td>\n",
       "      <td>2324.2</td>\n",
       "    </tr>\n",
       "    <tr>\n",
       "      <th>Fare_median</th>\n",
       "      <td>64.9</td>\n",
       "      <td>2448.2</td>\n",
       "      <td>16.5</td>\n",
       "      <td>51.3</td>\n",
       "      <td>53.6</td>\n",
       "      <td>2324.2</td>\n",
       "      <td>2340.1</td>\n",
       "    </tr>\n",
       "  </tbody>\n",
       "</table>\n",
       "</div>"
      ],
      "text/plain": [
       "               Age    Fare  Family  Age_mean  Age_median  Fare_mean  \\\n",
       "Age          204.3    70.7    -6.5     204.3       204.3       66.7   \n",
       "Fare          70.7  2448.2    17.3      55.6        58.0     2448.2   \n",
       "Family        -6.5    17.3     2.7      -5.1        -5.1       16.4   \n",
       "Age_mean     204.3    55.6    -5.1     161.8       161.8       52.8   \n",
       "Age_median   204.3    58.0    -5.1     161.8       162.0       55.0   \n",
       "Fare_mean     66.7  2448.2    16.4      52.8        55.0     2324.2   \n",
       "Fare_median   64.9  2448.2    16.5      51.3        53.6     2324.2   \n",
       "\n",
       "             Fare_median  \n",
       "Age                 64.9  \n",
       "Fare              2448.2  \n",
       "Family              16.5  \n",
       "Age_mean            51.3  \n",
       "Age_median          53.6  \n",
       "Fare_mean         2324.2  \n",
       "Fare_median       2340.1  "
      ]
     },
     "execution_count": 16,
     "metadata": {},
     "output_type": "execute_result"
    }
   ],
   "source": [
    "x_train.cov().round(1)"
   ]
  },
  {
   "cell_type": "markdown",
   "id": "d08be75a-962c-46ac-88f9-c5b4c45fc0a8",
   "metadata": {},
   "source": [
    "### Check Correlation"
   ]
  },
  {
   "cell_type": "code",
   "execution_count": 17,
   "id": "c135d123-218c-4989-9a42-38b9dafd8c38",
   "metadata": {},
   "outputs": [
    {
     "data": {
      "text/html": [
       "<div>\n",
       "<style scoped>\n",
       "    .dataframe tbody tr th:only-of-type {\n",
       "        vertical-align: middle;\n",
       "    }\n",
       "\n",
       "    .dataframe tbody tr th {\n",
       "        vertical-align: top;\n",
       "    }\n",
       "\n",
       "    .dataframe thead th {\n",
       "        text-align: right;\n",
       "    }\n",
       "</style>\n",
       "<table border=\"1\" class=\"dataframe\">\n",
       "  <thead>\n",
       "    <tr style=\"text-align: right;\">\n",
       "      <th></th>\n",
       "      <th>Age</th>\n",
       "      <th>Fare</th>\n",
       "      <th>Family</th>\n",
       "      <th>Age_mean</th>\n",
       "      <th>Age_median</th>\n",
       "      <th>Fare_mean</th>\n",
       "      <th>Fare_median</th>\n",
       "    </tr>\n",
       "  </thead>\n",
       "  <tbody>\n",
       "    <tr>\n",
       "      <th>Age</th>\n",
       "      <td>1.00</td>\n",
       "      <td>0.09</td>\n",
       "      <td>-0.30</td>\n",
       "      <td>1.00</td>\n",
       "      <td>1.00</td>\n",
       "      <td>0.09</td>\n",
       "      <td>0.09</td>\n",
       "    </tr>\n",
       "    <tr>\n",
       "      <th>Fare</th>\n",
       "      <td>0.09</td>\n",
       "      <td>1.00</td>\n",
       "      <td>0.21</td>\n",
       "      <td>0.09</td>\n",
       "      <td>0.09</td>\n",
       "      <td>1.00</td>\n",
       "      <td>1.00</td>\n",
       "    </tr>\n",
       "    <tr>\n",
       "      <th>Family</th>\n",
       "      <td>-0.30</td>\n",
       "      <td>0.21</td>\n",
       "      <td>1.00</td>\n",
       "      <td>-0.24</td>\n",
       "      <td>-0.24</td>\n",
       "      <td>0.21</td>\n",
       "      <td>0.21</td>\n",
       "    </tr>\n",
       "    <tr>\n",
       "      <th>Age_mean</th>\n",
       "      <td>1.00</td>\n",
       "      <td>0.09</td>\n",
       "      <td>-0.24</td>\n",
       "      <td>1.00</td>\n",
       "      <td>1.00</td>\n",
       "      <td>0.09</td>\n",
       "      <td>0.08</td>\n",
       "    </tr>\n",
       "    <tr>\n",
       "      <th>Age_median</th>\n",
       "      <td>1.00</td>\n",
       "      <td>0.09</td>\n",
       "      <td>-0.24</td>\n",
       "      <td>1.00</td>\n",
       "      <td>1.00</td>\n",
       "      <td>0.09</td>\n",
       "      <td>0.09</td>\n",
       "    </tr>\n",
       "    <tr>\n",
       "      <th>Fare_mean</th>\n",
       "      <td>0.09</td>\n",
       "      <td>1.00</td>\n",
       "      <td>0.21</td>\n",
       "      <td>0.09</td>\n",
       "      <td>0.09</td>\n",
       "      <td>1.00</td>\n",
       "      <td>1.00</td>\n",
       "    </tr>\n",
       "    <tr>\n",
       "      <th>Fare_median</th>\n",
       "      <td>0.09</td>\n",
       "      <td>1.00</td>\n",
       "      <td>0.21</td>\n",
       "      <td>0.08</td>\n",
       "      <td>0.09</td>\n",
       "      <td>1.00</td>\n",
       "      <td>1.00</td>\n",
       "    </tr>\n",
       "  </tbody>\n",
       "</table>\n",
       "</div>"
      ],
      "text/plain": [
       "              Age  Fare  Family  Age_mean  Age_median  Fare_mean  Fare_median\n",
       "Age          1.00  0.09   -0.30      1.00        1.00       0.09         0.09\n",
       "Fare         0.09  1.00    0.21      0.09        0.09       1.00         1.00\n",
       "Family      -0.30  0.21    1.00     -0.24       -0.24       0.21         0.21\n",
       "Age_mean     1.00  0.09   -0.24      1.00        1.00       0.09         0.08\n",
       "Age_median   1.00  0.09   -0.24      1.00        1.00       0.09         0.09\n",
       "Fare_mean    0.09  1.00    0.21      0.09        0.09       1.00         1.00\n",
       "Fare_median  0.09  1.00    0.21      0.08        0.09       1.00         1.00"
      ]
     },
     "execution_count": 17,
     "metadata": {},
     "output_type": "execute_result"
    }
   ],
   "source": [
    "x_train.corr().round(2)"
   ]
  },
  {
   "cell_type": "markdown",
   "id": "24bf53a9-5ab8-4c52-af1e-edd7e139a4c6",
   "metadata": {},
   "source": [
    "### Box Plot for Age"
   ]
  },
  {
   "cell_type": "code",
   "execution_count": 18,
   "id": "d93a3f49-3d54-4d32-bc6f-96fee2380944",
   "metadata": {},
   "outputs": [
    {
     "data": {
      "image/png": "[encoded data removed]",
      "text/plain": [
       "<Figure size 640x480 with 1 Axes>"
      ]
     },
     "metadata": {},
     "output_type": "display_data"
    }
   ],
   "source": [
    "x_train[['Age', 'Age_median', 'Age_mean']].boxplot()\n",
    "plt.show()"
   ]
  },
  {
   "cell_type": "markdown",
   "id": "51eea78e-a927-4351-920d-dbbb79446849",
   "metadata": {},
   "source": [
    "### Box Plot for Fare"
   ]
  },
  {
   "cell_type": "code",
   "execution_count": 19,
   "id": "af3de73d-43ba-43d5-86f5-0ae9d0e42877",
   "metadata": {},
   "outputs": [
    {
     "data": {
      "image/png": "[encoded data removed]",
      "text/plain": [
       "<Figure size 640x480 with 1 Axes>"
      ]
     },
     "metadata": {},
     "output_type": "display_data"
    }
   ],
   "source": [
    "x_train[['Fare', 'Fare_median', 'Fare_mean']].boxplot()\n",
    "plt.show()"
   ]
  }
 ],
 "metadata": {
  "kernelspec": {
   "display_name": "Python 3 (ipykernel)",
   "language": "python",
   "name": "python3"
  },
  "language_info": {
   "codemirror_mode": {
    "name": "ipython",
    "version": 3
   },
   "file_extension": ".py",
   "mimetype": "text/x-python",
   "name": "python",
   "nbconvert_exporter": "python",
   "pygments_lexer": "ipython3",
   "version": "3.11.4"
  }
 },
 "nbformat": 4,
 "nbformat_minor": 5
}
