{
 "cells": [
  {
   "cell_type": "markdown",
   "id": "cd3881d9-005c-4a24-a043-ac53aa411e1e",
   "metadata": {},
   "source": [
    "# Arbitrary Value Imputation"
   ]
  },
  {
   "cell_type": "code",
   "execution_count": 1,
   "id": "776fc43c-e268-4a21-baa6-5d541724da05",
   "metadata": {},
   "outputs": [],
   "source": [
    "import pandas as pd\n",
    "import numpy as np\n",
    "import matplotlib.pyplot as plt\n",
    "from sklearn.model_selection import train_test_split"
   ]
  },
  {
   "cell_type": "code",
   "execution_count": 2,
   "id": "14a2f069-b8f0-4494-b639-e2a232ec8d72",
   "metadata": {},
   "outputs": [],
   "source": [
    "df = pd.read_csv('titanic_toy.csv')"
   ]
  },
  {
   "cell_type": "code",
   "execution_count": 3,
   "id": "b516a591-1d85-4e42-b14d-5865f14656eb",
   "metadata": {},
   "outputs": [
    {
     "data": {
      "text/html": [
       "<div>\n",
       "<style scoped>\n",
       "    .dataframe tbody tr th:only-of-type {\n",
       "        vertical-align: middle;\n",
       "    }\n",
       "\n",
       "    .dataframe tbody tr th {\n",
       "        vertical-align: top;\n",
       "    }\n",
       "\n",
       "    .dataframe thead th {\n",
       "        text-align: right;\n",
       "    }\n",
       "</style>\n",
       "<table border=\"1\" class=\"dataframe\">\n",
       "  <thead>\n",
       "    <tr style=\"text-align: right;\">\n",
       "      <th></th>\n",
       "      <th>Age</th>\n",
       "      <th>Fare</th>\n",
       "      <th>Family</th>\n",
       "      <th>Survived</th>\n",
       "    </tr>\n",
       "  </thead>\n",
       "  <tbody>\n",
       "    <tr>\n",
       "      <th>0</th>\n",
       "      <td>22.0</td>\n",
       "      <td>7.2500</td>\n",
       "      <td>1</td>\n",
       "      <td>0</td>\n",
       "    </tr>\n",
       "    <tr>\n",
       "      <th>1</th>\n",
       "      <td>38.0</td>\n",
       "      <td>71.2833</td>\n",
       "      <td>1</td>\n",
       "      <td>1</td>\n",
       "    </tr>\n",
       "    <tr>\n",
       "      <th>2</th>\n",
       "      <td>26.0</td>\n",
       "      <td>7.9250</td>\n",
       "      <td>0</td>\n",
       "      <td>1</td>\n",
       "    </tr>\n",
       "  </tbody>\n",
       "</table>\n",
       "</div>"
      ],
      "text/plain": [
       "    Age     Fare  Family  Survived\n",
       "0  22.0   7.2500       1         0\n",
       "1  38.0  71.2833       1         1\n",
       "2  26.0   7.9250       0         1"
      ]
     },
     "execution_count": 3,
     "metadata": {},
     "output_type": "execute_result"
    }
   ],
   "source": [
    "df.head(3)"
   ]
  },
  {
   "cell_type": "code",
   "execution_count": 4,
   "id": "53ebcdde-644c-44ff-bcdf-46fa02a8e384",
   "metadata": {},
   "outputs": [
    {
     "name": "stdout",
     "output_type": "stream",
     "text": [
      "<class 'pandas.core.frame.DataFrame'>\n",
      "RangeIndex: 891 entries, 0 to 890\n",
      "Data columns (total 4 columns):\n",
      " #   Column    Non-Null Count  Dtype  \n",
      "---  ------    --------------  -----  \n",
      " 0   Age       714 non-null    float64\n",
      " 1   Fare      846 non-null    float64\n",
      " 2   Family    891 non-null    int64  \n",
      " 3   Survived  891 non-null    int64  \n",
      "dtypes: float64(2), int64(2)\n",
      "memory usage: 28.0 KB\n"
     ]
    }
   ],
   "source": [
    "df.info()"
   ]
  },
  {
   "cell_type": "markdown",
   "id": "61d9914c-9126-4ae6-bb9b-ee4b1b059513",
   "metadata": {},
   "source": [
    "### Performing Train Test Split"
   ]
  },
  {
   "cell_type": "code",
   "execution_count": 5,
   "id": "760e4ea7-c7ac-463e-922a-e596c58893fe",
   "metadata": {},
   "outputs": [],
   "source": [
    "x = df.drop(columns= ['Survived'])\n",
    "y = df['Survived']"
   ]
  },
  {
   "cell_type": "code",
   "execution_count": 6,
   "id": "e3f05186-50a3-48bf-9cba-d4d0a92b6592",
   "metadata": {},
   "outputs": [],
   "source": [
    "x_train, x_test, y_train, y_test = train_test_split(x, y, test_size = 0.2, random_state = 2)"
   ]
  },
  {
   "cell_type": "code",
   "execution_count": 7,
   "id": "ea1e35a9-209c-4113-a8c7-a65d4dda377e",
   "metadata": {},
   "outputs": [
    {
     "data": {
      "text/plain": [
       "((712, 3), (179, 3), (712,), (179,))"
      ]
     },
     "execution_count": 7,
     "metadata": {},
     "output_type": "execute_result"
    }
   ],
   "source": [
    "x_train.shape, x_test.shape, y_train.shape, y_test.shape"
   ]
  },
  {
   "cell_type": "code",
   "execution_count": 8,
   "id": "0b8ca938-a435-4ed0-9a96-cac318806a94",
   "metadata": {},
   "outputs": [],
   "source": [
    "x_train['Age_99'] = x_train['Age'].fillna(99)\n",
    "x_train['Age_-1'] = x_train['Age'].fillna(-1)\n",
    "x_train['Fare_999'] = x_train['Fare'].fillna(999)\n",
    "x_train['Fare_-1']= x_train['Fare'].fillna(-1)"
   ]
  },
  {
   "cell_type": "code",
   "execution_count": 9,
   "id": "195438a5-49f0-4888-b7d3-666db04ccbe2",
   "metadata": {},
   "outputs": [
    {
     "data": {
      "text/html": [
       "<div>\n",
       "<style scoped>\n",
       "    .dataframe tbody tr th:only-of-type {\n",
       "        vertical-align: middle;\n",
       "    }\n",
       "\n",
       "    .dataframe tbody tr th {\n",
       "        vertical-align: top;\n",
       "    }\n",
       "\n",
       "    .dataframe thead th {\n",
       "        text-align: right;\n",
       "    }\n",
       "</style>\n",
       "<table border=\"1\" class=\"dataframe\">\n",
       "  <thead>\n",
       "    <tr style=\"text-align: right;\">\n",
       "      <th></th>\n",
       "      <th>Age</th>\n",
       "      <th>Fare</th>\n",
       "      <th>Family</th>\n",
       "      <th>Age_99</th>\n",
       "      <th>Age_-1</th>\n",
       "      <th>Fare_999</th>\n",
       "      <th>Fare_-1</th>\n",
       "    </tr>\n",
       "  </thead>\n",
       "  <tbody>\n",
       "    <tr>\n",
       "      <th>477</th>\n",
       "      <td>29.0</td>\n",
       "      <td>7.0458</td>\n",
       "      <td>1</td>\n",
       "      <td>29.0</td>\n",
       "      <td>29.0</td>\n",
       "      <td>7.0458</td>\n",
       "      <td>7.0458</td>\n",
       "    </tr>\n",
       "    <tr>\n",
       "      <th>235</th>\n",
       "      <td>NaN</td>\n",
       "      <td>7.5500</td>\n",
       "      <td>0</td>\n",
       "      <td>99.0</td>\n",
       "      <td>-1.0</td>\n",
       "      <td>7.5500</td>\n",
       "      <td>7.5500</td>\n",
       "    </tr>\n",
       "    <tr>\n",
       "      <th>301</th>\n",
       "      <td>NaN</td>\n",
       "      <td>23.2500</td>\n",
       "      <td>2</td>\n",
       "      <td>99.0</td>\n",
       "      <td>-1.0</td>\n",
       "      <td>23.2500</td>\n",
       "      <td>23.2500</td>\n",
       "    </tr>\n",
       "    <tr>\n",
       "      <th>778</th>\n",
       "      <td>NaN</td>\n",
       "      <td>7.7375</td>\n",
       "      <td>0</td>\n",
       "      <td>99.0</td>\n",
       "      <td>-1.0</td>\n",
       "      <td>7.7375</td>\n",
       "      <td>7.7375</td>\n",
       "    </tr>\n",
       "  </tbody>\n",
       "</table>\n",
       "</div>"
      ],
      "text/plain": [
       "      Age     Fare  Family  Age_99  Age_-1  Fare_999  Fare_-1\n",
       "477  29.0   7.0458       1    29.0    29.0    7.0458   7.0458\n",
       "235   NaN   7.5500       0    99.0    -1.0    7.5500   7.5500\n",
       "301   NaN  23.2500       2    99.0    -1.0   23.2500  23.2500\n",
       "778   NaN   7.7375       0    99.0    -1.0    7.7375   7.7375"
      ]
     },
     "execution_count": 9,
     "metadata": {},
     "output_type": "execute_result"
    }
   ],
   "source": [
    "x_train.sample(4)"
   ]
  },
  {
   "cell_type": "markdown",
   "id": "ade5e192-cd3a-477e-b8ca-102d9ea4d579",
   "metadata": {},
   "source": [
    "### Review Variance"
   ]
  },
  {
   "cell_type": "code",
   "execution_count": 10,
   "id": "52aaf24d-85ca-42ff-b666-ef733ae335b9",
   "metadata": {},
   "outputs": [
    {
     "name": "stdout",
     "output_type": "stream",
     "text": [
      "Original Age Variable variance:  204.34951339046142 \n",
      "Age variance after using 99 for imputation:  951.7275570187188 \n",
      "Age variance after using -1 for imputaion:  318.0896202624488 \n",
      "Original Fare variable variance;  2448.1979137063163 \n",
      "Fare variance after using 999 for imputation:  47219.202652176304 \n",
      "Fare variance after using -1 for imputation:  2378.5676784883494\n"
     ]
    }
   ],
   "source": [
    "print('Original Age Variable variance: ', x_train['Age'].var(), '\\n'\n",
    "     'Age variance after using 99 for imputation: ', x_train['Age_99'].var(), '\\n'\n",
    "     'Age variance after using -1 for imputaion: ', x_train['Age_-1'].var(), '\\n'\n",
    "     'Original Fare variable variance; ', x_train['Fare'].var(), '\\n'\n",
    "     'Fare variance after using 999 for imputation: ', x_train['Fare_999'].var(), '\\n'\n",
    "     'Fare variance after using -1 for imputation: ', x_train['Fare_-1'].var())"
   ]
  },
  {
   "cell_type": "markdown",
   "id": "a3bc79e0-2d75-4e4f-9d19-b718b2f12dfe",
   "metadata": {},
   "source": [
    "### Review Distribution Age"
   ]
  },
  {
   "cell_type": "code",
   "execution_count": 11,
   "id": "e9314c6c-dd22-4150-a546-ce6f402cd6a4",
   "metadata": {},
   "outputs": [
    {
     "data": {
      "image/png": "[encoded data removed]",
      "text/plain": [
       "<Figure size 640x480 with 1 Axes>"
      ]
     },
     "metadata": {},
     "output_type": "display_data"
    }
   ],
   "source": [
    "fig = plt.figure()\n",
    "ax = fig.add_subplot(111)\n",
    "x_train['Age'].plot(kind = 'kde', ax = ax, legend= True)\n",
    "x_train['Age_99'].plot(kind = 'kde', ax = ax, legend = True, color = 'red')\n",
    "x_train['Age_-1'].plot(kind = 'kde', ax = ax, legend = True, color = 'green')\n",
    "plt.show()"
   ]
  },
  {
   "cell_type": "markdown",
   "id": "e895dd2d-ba58-475b-a163-8e27c3c85a57",
   "metadata": {},
   "source": [
    "### Review Distribution Fare"
   ]
  },
  {
   "cell_type": "code",
   "execution_count": 12,
   "id": "256587d3-ab76-4e91-bd5d-fccd840b27b8",
   "metadata": {},
   "outputs": [
    {
     "data": {
      "image/png": "[encoded data removed]",
      "text/plain": [
       "<Figure size 640x480 with 1 Axes>"
      ]
     },
     "metadata": {},
     "output_type": "display_data"
    }
   ],
   "source": [
    "fig = plt.figure()\n",
    "ax = fig.add_subplot(111)\n",
    "x_train['Fare'].plot(kind = 'kde', ax = ax, legend= True)\n",
    "x_train['Fare_999'].plot(kind = 'kde', ax = ax, legend = True, color = 'red')\n",
    "x_train['Fare_-1'].plot(kind = 'kde', ax = ax, legend = True, color = 'green')\n",
    "plt.show()"
   ]
  },
  {
   "cell_type": "markdown",
   "id": "6826c2f7-fa3c-415b-9ca4-806eb06d8cee",
   "metadata": {},
   "source": [
    "### Check Covariance"
   ]
  },
  {
   "cell_type": "code",
   "execution_count": 13,
   "id": "5875f319-a06a-4c5e-9065-7a944e2dc8fe",
   "metadata": {},
   "outputs": [
    {
     "data": {
      "text/html": [
       "<div>\n",
       "<style scoped>\n",
       "    .dataframe tbody tr th:only-of-type {\n",
       "        vertical-align: middle;\n",
       "    }\n",
       "\n",
       "    .dataframe tbody tr th {\n",
       "        vertical-align: top;\n",
       "    }\n",
       "\n",
       "    .dataframe thead th {\n",
       "        text-align: right;\n",
       "    }\n",
       "</style>\n",
       "<table border=\"1\" class=\"dataframe\">\n",
       "  <thead>\n",
       "    <tr style=\"text-align: right;\">\n",
       "      <th></th>\n",
       "      <th>Age</th>\n",
       "      <th>Fare</th>\n",
       "      <th>Family</th>\n",
       "      <th>Age_99</th>\n",
       "      <th>Age_-1</th>\n",
       "      <th>Fare_999</th>\n",
       "      <th>Fare_-1</th>\n",
       "    </tr>\n",
       "  </thead>\n",
       "  <tbody>\n",
       "    <tr>\n",
       "      <th>Age</th>\n",
       "      <td>204.350</td>\n",
       "      <td>70.719</td>\n",
       "      <td>-6.499</td>\n",
       "      <td>204.350</td>\n",
       "      <td>204.350</td>\n",
       "      <td>162.793</td>\n",
       "      <td>63.321</td>\n",
       "    </tr>\n",
       "    <tr>\n",
       "      <th>Fare</th>\n",
       "      <td>70.719</td>\n",
       "      <td>2448.198</td>\n",
       "      <td>17.259</td>\n",
       "      <td>-101.671</td>\n",
       "      <td>125.558</td>\n",
       "      <td>2448.198</td>\n",
       "      <td>2448.198</td>\n",
       "    </tr>\n",
       "    <tr>\n",
       "      <th>Family</th>\n",
       "      <td>-6.499</td>\n",
       "      <td>17.259</td>\n",
       "      <td>2.735</td>\n",
       "      <td>-7.387</td>\n",
       "      <td>-4.149</td>\n",
       "      <td>11.529</td>\n",
       "      <td>16.554</td>\n",
       "    </tr>\n",
       "    <tr>\n",
       "      <th>Age_99</th>\n",
       "      <td>204.350</td>\n",
       "      <td>-101.671</td>\n",
       "      <td>-7.387</td>\n",
       "      <td>951.728</td>\n",
       "      <td>-189.536</td>\n",
       "      <td>-159.932</td>\n",
       "      <td>-94.317</td>\n",
       "    </tr>\n",
       "    <tr>\n",
       "      <th>Age_-1</th>\n",
       "      <td>204.350</td>\n",
       "      <td>125.558</td>\n",
       "      <td>-4.149</td>\n",
       "      <td>-189.536</td>\n",
       "      <td>318.090</td>\n",
       "      <td>257.380</td>\n",
       "      <td>114.394</td>\n",
       "    </tr>\n",
       "    <tr>\n",
       "      <th>Fare_999</th>\n",
       "      <td>162.793</td>\n",
       "      <td>2448.198</td>\n",
       "      <td>11.529</td>\n",
       "      <td>-159.932</td>\n",
       "      <td>257.380</td>\n",
       "      <td>47219.203</td>\n",
       "      <td>762.475</td>\n",
       "    </tr>\n",
       "    <tr>\n",
       "      <th>Fare_-1</th>\n",
       "      <td>63.321</td>\n",
       "      <td>2448.198</td>\n",
       "      <td>16.554</td>\n",
       "      <td>-94.317</td>\n",
       "      <td>114.394</td>\n",
       "      <td>762.475</td>\n",
       "      <td>2378.568</td>\n",
       "    </tr>\n",
       "  </tbody>\n",
       "</table>\n",
       "</div>"
      ],
      "text/plain": [
       "              Age      Fare  Family   Age_99   Age_-1   Fare_999   Fare_-1\n",
       "Age       204.350    70.719  -6.499  204.350  204.350    162.793    63.321\n",
       "Fare       70.719  2448.198  17.259 -101.671  125.558   2448.198  2448.198\n",
       "Family     -6.499    17.259   2.735   -7.387   -4.149     11.529    16.554\n",
       "Age_99    204.350  -101.671  -7.387  951.728 -189.536   -159.932   -94.317\n",
       "Age_-1    204.350   125.558  -4.149 -189.536  318.090    257.380   114.394\n",
       "Fare_999  162.793  2448.198  11.529 -159.932  257.380  47219.203   762.475\n",
       "Fare_-1    63.321  2448.198  16.554  -94.317  114.394    762.475  2378.568"
      ]
     },
     "execution_count": 13,
     "metadata": {},
     "output_type": "execute_result"
    }
   ],
   "source": [
    "x_train.cov().round(3)"
   ]
  },
  {
   "cell_type": "markdown",
   "id": "14fd12dc-9ac0-4e89-89ea-3ae133acba13",
   "metadata": {},
   "source": [
    "### Check Correlation"
   ]
  },
  {
   "cell_type": "code",
   "execution_count": 14,
   "id": "9b4e22ca-6232-4cd0-9520-424f03744fb2",
   "metadata": {},
   "outputs": [
    {
     "data": {
      "text/html": [
       "<div>\n",
       "<style scoped>\n",
       "    .dataframe tbody tr th:only-of-type {\n",
       "        vertical-align: middle;\n",
       "    }\n",
       "\n",
       "    .dataframe tbody tr th {\n",
       "        vertical-align: top;\n",
       "    }\n",
       "\n",
       "    .dataframe thead th {\n",
       "        text-align: right;\n",
       "    }\n",
       "</style>\n",
       "<table border=\"1\" class=\"dataframe\">\n",
       "  <thead>\n",
       "    <tr style=\"text-align: right;\">\n",
       "      <th></th>\n",
       "      <th>Age</th>\n",
       "      <th>Fare</th>\n",
       "      <th>Family</th>\n",
       "      <th>Age_99</th>\n",
       "      <th>Age_-1</th>\n",
       "      <th>Fare_999</th>\n",
       "      <th>Fare_-1</th>\n",
       "    </tr>\n",
       "  </thead>\n",
       "  <tbody>\n",
       "    <tr>\n",
       "      <th>Age</th>\n",
       "      <td>1.000</td>\n",
       "      <td>0.093</td>\n",
       "      <td>-0.299</td>\n",
       "      <td>1.000</td>\n",
       "      <td>1.000</td>\n",
       "      <td>0.051</td>\n",
       "      <td>0.085</td>\n",
       "    </tr>\n",
       "    <tr>\n",
       "      <th>Fare</th>\n",
       "      <td>0.093</td>\n",
       "      <td>1.000</td>\n",
       "      <td>0.208</td>\n",
       "      <td>-0.066</td>\n",
       "      <td>0.142</td>\n",
       "      <td>1.000</td>\n",
       "      <td>1.000</td>\n",
       "    </tr>\n",
       "    <tr>\n",
       "      <th>Family</th>\n",
       "      <td>-0.299</td>\n",
       "      <td>0.208</td>\n",
       "      <td>1.000</td>\n",
       "      <td>-0.145</td>\n",
       "      <td>-0.141</td>\n",
       "      <td>0.032</td>\n",
       "      <td>0.205</td>\n",
       "    </tr>\n",
       "    <tr>\n",
       "      <th>Age_99</th>\n",
       "      <td>1.000</td>\n",
       "      <td>-0.066</td>\n",
       "      <td>-0.145</td>\n",
       "      <td>1.000</td>\n",
       "      <td>-0.344</td>\n",
       "      <td>-0.024</td>\n",
       "      <td>-0.063</td>\n",
       "    </tr>\n",
       "    <tr>\n",
       "      <th>Age_-1</th>\n",
       "      <td>1.000</td>\n",
       "      <td>0.142</td>\n",
       "      <td>-0.141</td>\n",
       "      <td>-0.344</td>\n",
       "      <td>1.000</td>\n",
       "      <td>0.066</td>\n",
       "      <td>0.132</td>\n",
       "    </tr>\n",
       "    <tr>\n",
       "      <th>Fare_999</th>\n",
       "      <td>0.051</td>\n",
       "      <td>1.000</td>\n",
       "      <td>0.032</td>\n",
       "      <td>-0.024</td>\n",
       "      <td>0.066</td>\n",
       "      <td>1.000</td>\n",
       "      <td>0.072</td>\n",
       "    </tr>\n",
       "    <tr>\n",
       "      <th>Fare_-1</th>\n",
       "      <td>0.085</td>\n",
       "      <td>1.000</td>\n",
       "      <td>0.205</td>\n",
       "      <td>-0.063</td>\n",
       "      <td>0.132</td>\n",
       "      <td>0.072</td>\n",
       "      <td>1.000</td>\n",
       "    </tr>\n",
       "  </tbody>\n",
       "</table>\n",
       "</div>"
      ],
      "text/plain": [
       "            Age   Fare  Family  Age_99  Age_-1  Fare_999  Fare_-1\n",
       "Age       1.000  0.093  -0.299   1.000   1.000     0.051    0.085\n",
       "Fare      0.093  1.000   0.208  -0.066   0.142     1.000    1.000\n",
       "Family   -0.299  0.208   1.000  -0.145  -0.141     0.032    0.205\n",
       "Age_99    1.000 -0.066  -0.145   1.000  -0.344    -0.024   -0.063\n",
       "Age_-1    1.000  0.142  -0.141  -0.344   1.000     0.066    0.132\n",
       "Fare_999  0.051  1.000   0.032  -0.024   0.066     1.000    0.072\n",
       "Fare_-1   0.085  1.000   0.205  -0.063   0.132     0.072    1.000"
      ]
     },
     "execution_count": 14,
     "metadata": {},
     "output_type": "execute_result"
    }
   ],
   "source": [
    "x_train.corr().round(3)"
   ]
  }
 ],
 "metadata": {
  "kernelspec": {
   "display_name": "Python 3 (ipykernel)",
   "language": "python",
   "name": "python3"
  },
  "language_info": {
   "codemirror_mode": {
    "name": "ipython",
    "version": 3
   },
   "file_extension": ".py",
   "mimetype": "text/x-python",
   "name": "python",
   "nbconvert_exporter": "python",
   "pygments_lexer": "ipython3",
   "version": "3.11.4"
  }
 },
 "nbformat": 4,
 "nbformat_minor": 5
}
